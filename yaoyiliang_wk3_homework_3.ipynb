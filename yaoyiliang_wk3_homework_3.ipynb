{
  "nbformat": 4,
  "nbformat_minor": 0,
  "metadata": {
    "colab": {
      "name": "yaoyiliang-wk3-homework-3.ipynb",
      "version": "0.3.2",
      "provenance": [],
      "collapsed_sections": []
    },
    "kernelspec": {
      "name": "python2",
      "display_name": "Python 2"
    }
  },
  "cells": [
    {
      "cell_type": "markdown",
      "metadata": {
        "id": "view-in-github",
        "colab_type": "text"
      },
      "source": [
        "[View in Colaboratory](https://colab.research.google.com/github/yiliangyao/BA-homework/blob/master/yaoyiliang_wk3_homework_3.ipynb)"
      ]
    },
    {
      "metadata": {
        "id": "vLWMYqtcUNv8",
        "colab_type": "code",
        "colab": {
          "base_uri": "https://localhost:8080/",
          "height": 150
        },
        "outputId": "84ba7f33-b64d-473d-9b98-97088a74f0c5"
      },
      "cell_type": "code",
      "source": [
        "#1.How to remove duplicate values in a dataset in Python?\n",
        "import numpy as np\n",
        "import pandas as pd\n",
        "import matplotlib.pyplot as plt\n",
        "#np\n",
        "a = np.array([5,6,7,8,9,9])\n",
        "print a\n",
        "a_dedupe = np.unique(a)\n",
        "print a_dedupe\n",
        "\n",
        "# for a dataframe\n",
        "b = pd.DataFrame([[0,4,6,8,10],[4,12,16,20,24],[4,12,16,20,24]])\n",
        "\n",
        "b_dedupe = b.drop_duplicates()\n",
        "b_dedupe"
      ],
      "execution_count": 38,
      "outputs": [
        {
          "output_type": "stream",
          "text": [
            "[5 6 7 8 9 9]\n",
            "[5 6 7 8 9]\n"
          ],
          "name": "stdout"
        },
        {
          "output_type": "execute_result",
          "data": {
            "text/html": [
              "<div>\n",
              "<style scoped>\n",
              "    .dataframe tbody tr th:only-of-type {\n",
              "        vertical-align: middle;\n",
              "    }\n",
              "\n",
              "    .dataframe tbody tr th {\n",
              "        vertical-align: top;\n",
              "    }\n",
              "\n",
              "    .dataframe thead th {\n",
              "        text-align: right;\n",
              "    }\n",
              "</style>\n",
              "<table border=\"1\" class=\"dataframe\">\n",
              "  <thead>\n",
              "    <tr style=\"text-align: right;\">\n",
              "      <th></th>\n",
              "      <th>0</th>\n",
              "      <th>1</th>\n",
              "      <th>2</th>\n",
              "      <th>3</th>\n",
              "      <th>4</th>\n",
              "    </tr>\n",
              "  </thead>\n",
              "  <tbody>\n",
              "    <tr>\n",
              "      <th>0</th>\n",
              "      <td>0</td>\n",
              "      <td>4</td>\n",
              "      <td>6</td>\n",
              "      <td>8</td>\n",
              "      <td>10</td>\n",
              "    </tr>\n",
              "    <tr>\n",
              "      <th>1</th>\n",
              "      <td>4</td>\n",
              "      <td>12</td>\n",
              "      <td>16</td>\n",
              "      <td>20</td>\n",
              "      <td>24</td>\n",
              "    </tr>\n",
              "  </tbody>\n",
              "</table>\n",
              "</div>"
            ],
            "text/plain": [
              "   0   1   2   3   4\n",
              "0  0   4   6   8  10\n",
              "1  4  12  16  20  24"
            ]
          },
          "metadata": {
            "tags": []
          },
          "execution_count": 38
        }
      ]
    },
    {
      "metadata": {
        "id": "8wAYxLPVYDvs",
        "colab_type": "code",
        "colab": {
          "base_uri": "https://localhost:8080/",
          "height": 152
        },
        "outputId": "a20384d9-0add-472e-d5f0-d0d4134a9e0c"
      },
      "cell_type": "code",
      "source": [
        "#2.\n",
        "import pandas as pd\n",
        "\n",
        "friend_request = pd.DataFrame(\n",
        "    {\"requester_id\":[101,202,303],\n",
        "     \"time\":[\"2018-03-01\",\"2018-04-18\",\"2018-05-02\"],\n",
        "     \"receiver_id\":[301,202,203]}\n",
        ")\n",
        "import pandas as pd\n",
        "request_accepted = pd.DataFrame(\n",
        "    {\"requester_id\":[101,303],\n",
        "     \"time\":[\"2018-03-01\",\"2018-05-02\"],\n",
        "     \"accepted_id\":[301,202]}\n",
        ")\n",
        "print(friend_request)\n",
        "print(request_accepted)\n",
        "\n",
        "# sql\n",
        "#select\n",
        "#sum(if(t2.acceptor_id is null, 0, 1))/sum(1) as acceptance_rate,\n",
        "#avg(time_diff(t2.time, t1.time)) as time_diff\n",
        "#from friend_request t1\n",
        "#left join request_accepted t2\n",
        "#on t1.requester_id=t2.requeter_id\n",
        "#and T1.receiver_id=T2.acceptor_id;"
      ],
      "execution_count": 48,
      "outputs": [
        {
          "output_type": "stream",
          "text": [
            "   receiver_id  requester_id        time\n",
            "0          301           101  2018-03-01\n",
            "1          202           202  2018-04-18\n",
            "2          203           303  2018-05-02\n",
            "   accepted_id  requester_id        time\n",
            "0          301           101  2018-03-01\n",
            "1          202           303  2018-05-02\n"
          ],
          "name": "stdout"
        }
      ]
    },
    {
      "metadata": {
        "id": "3deXH5E_IK5n",
        "colab_type": "code",
        "colab": {
          "base_uri": "https://localhost:8080/",
          "height": 152
        },
        "outputId": "61e154c9-a455-46a7-cb16-316ee34a965b"
      },
      "cell_type": "code",
      "source": [
        "# 3. Credit Card\n",
        "\n",
        "CCList = ['4175004175004172','4917491749174917','346416800707698','376416800707698',\n",
        "'4000600070008000','37641680070769832112','36641680070769','54545641680070769']\n",
        "for CCID in CCList:\n",
        "  if (CCID[0] == '4') and (len(CCID) == 16):\n",
        "    if (CCID[0:6] == '417500'):\n",
        "      print(CCID,'is VISAELECTRON')\n",
        "    elif CCID[0:4] ==  '4917':\n",
        "      print(CCID,'is VISAELECTRON')\n",
        "    elif CCID[0:4] ==  '4913':\n",
        "      print(CCID,'is VISAELECTRON')\n",
        "    elif CCID[0:4] ==  '4405':\n",
        "      print(CCID,'is VISAELECTRON')\n",
        "    elif CCID[0:4] ==  '4508':\n",
        "      print(CCID,'is VISAELECTRON')\n",
        "    elif CCID[0:4] ==  '4844':\n",
        "      print(CCID,'is VISAELECTRON')\n",
        "    elif CCID[0:4] ==  '4026':\n",
        "      print(CCID,'is VISAELECTRON')\n",
        "    else: \n",
        "      print(CCID, 'is VISA')\n",
        "  if (CCID[0:2] == '37'or '34') and (len(CCID)) ==15:\n",
        "    print(CCID,'is AMEX')\n",
        "  if (CCID[0:2] == '36') and (len(CCID)) ==14:\n",
        "    print(CCID,'is Diners Club')\n",
        "else:\n",
        "    print(CCID,'dose not belong to any item')\n",
        "  "
      ],
      "execution_count": 49,
      "outputs": [
        {
          "output_type": "stream",
          "text": [
            "('4175004175004172', 'is VISAELECTRON')\n",
            "('4917491749174917', 'is VISAELECTRON')\n",
            "('346416800707698', 'is AMEX')\n",
            "('376416800707698', 'is AMEX')\n",
            "('4000600070008000', 'is VISA')\n",
            "('36641680070769', 'is Diners Club')\n",
            "('54545641680070769', 'dose not belong to any item')\n"
          ],
          "name": "stdout"
        }
      ]
    },
    {
      "metadata": {
        "id": "Vn3IEP-On7U6",
        "colab_type": "code",
        "colab": {
          "base_uri": "https://localhost:8080/",
          "height": 206
        },
        "outputId": "12696631-8e86-4dc2-f261-edb9737398e4"
      },
      "cell_type": "code",
      "source": [
        "#4\n",
        "import numpy as np\n",
        "import pandas as pd\n",
        "import matplotlib.pyplot as plt\n",
        "\n",
        "my_data = pd.read_csv(\"https://raw.githubusercontent.com/mingchang0804/python_notebook/master/BA501_python_data.csv\")\n",
        "\n",
        "my_data.head(5)"
      ],
      "execution_count": 51,
      "outputs": [
        {
          "output_type": "execute_result",
          "data": {
            "text/html": [
              "<div>\n",
              "<style scoped>\n",
              "    .dataframe tbody tr th:only-of-type {\n",
              "        vertical-align: middle;\n",
              "    }\n",
              "\n",
              "    .dataframe tbody tr th {\n",
              "        vertical-align: top;\n",
              "    }\n",
              "\n",
              "    .dataframe thead th {\n",
              "        text-align: right;\n",
              "    }\n",
              "</style>\n",
              "<table border=\"1\" class=\"dataframe\">\n",
              "  <thead>\n",
              "    <tr style=\"text-align: right;\">\n",
              "      <th></th>\n",
              "      <th>country</th>\n",
              "      <th>date</th>\n",
              "      <th>experiment_id</th>\n",
              "      <th>order_id</th>\n",
              "      <th>spend_usd</th>\n",
              "      <th>user_id</th>\n",
              "      <th>vertical</th>\n",
              "    </tr>\n",
              "  </thead>\n",
              "  <tbody>\n",
              "    <tr>\n",
              "      <th>0</th>\n",
              "      <td>JP</td>\n",
              "      <td>20170402</td>\n",
              "      <td>12624548</td>\n",
              "      <td>5813140433216629693</td>\n",
              "      <td>16.138855</td>\n",
              "      <td>5006730028073359543</td>\n",
              "      <td>ANDROID_APPS</td>\n",
              "    </tr>\n",
              "    <tr>\n",
              "      <th>1</th>\n",
              "      <td>US</td>\n",
              "      <td>20170403</td>\n",
              "      <td>12624549</td>\n",
              "      <td>16333056276711034931</td>\n",
              "      <td>9.990000</td>\n",
              "      <td>5938685669571545259</td>\n",
              "      <td>ANDROID_APPS</td>\n",
              "    </tr>\n",
              "    <tr>\n",
              "      <th>2</th>\n",
              "      <td>JP</td>\n",
              "      <td>20170404</td>\n",
              "      <td>12624548</td>\n",
              "      <td>11227119161741298366</td>\n",
              "      <td>19.887087</td>\n",
              "      <td>17623708458399141713</td>\n",
              "      <td>ANDROID_APPS</td>\n",
              "    </tr>\n",
              "    <tr>\n",
              "      <th>3</th>\n",
              "      <td>US</td>\n",
              "      <td>20170403</td>\n",
              "      <td>12624548</td>\n",
              "      <td>11927299833124210932</td>\n",
              "      <td>19.990000</td>\n",
              "      <td>18042812344456618148</td>\n",
              "      <td>ANDROID_APPS</td>\n",
              "    </tr>\n",
              "    <tr>\n",
              "      <th>4</th>\n",
              "      <td>JP</td>\n",
              "      <td>20170403</td>\n",
              "      <td>12624549</td>\n",
              "      <td>11644727017708872749</td>\n",
              "      <td>88.220093</td>\n",
              "      <td>4325104700699531031</td>\n",
              "      <td>ANDROID_APPS</td>\n",
              "    </tr>\n",
              "  </tbody>\n",
              "</table>\n",
              "</div>"
            ],
            "text/plain": [
              "  country      date  experiment_id              order_id  spend_usd  \\\n",
              "0      JP  20170402       12624548   5813140433216629693  16.138855   \n",
              "1      US  20170403       12624549  16333056276711034931   9.990000   \n",
              "2      JP  20170404       12624548  11227119161741298366  19.887087   \n",
              "3      US  20170403       12624548  11927299833124210932  19.990000   \n",
              "4      JP  20170403       12624549  11644727017708872749  88.220093   \n",
              "\n",
              "                user_id      vertical  \n",
              "0   5006730028073359543  ANDROID_APPS  \n",
              "1   5938685669571545259  ANDROID_APPS  \n",
              "2  17623708458399141713  ANDROID_APPS  \n",
              "3  18042812344456618148  ANDROID_APPS  \n",
              "4   4325104700699531031  ANDROID_APPS  "
            ]
          },
          "metadata": {
            "tags": []
          },
          "execution_count": 51
        }
      ]
    }
  ]
}